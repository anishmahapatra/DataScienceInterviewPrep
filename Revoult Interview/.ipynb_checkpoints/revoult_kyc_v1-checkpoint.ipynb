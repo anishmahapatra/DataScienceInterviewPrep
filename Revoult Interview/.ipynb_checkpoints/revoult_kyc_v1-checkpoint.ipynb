{
 "cells": [
  {
   "cell_type": "markdown",
   "metadata": {},
   "source": [
    "# Revoult\n",
    "\n",
    "- <b>Author:</b> Anish Mahapatra\n",
    "- <b>Email:</b> anishmahapatra01@gmail.com"
   ]
  },
  {
   "cell_type": "markdown",
   "metadata": {},
   "source": [
    "### Operations Task\n",
    "\n",
    "The task to is help improve KYC. Expected KYC report to contain the following:\n",
    "- Improve KYC / Presentation of findings\n",
    "- Catching fraud report\n",
    "- Supporiting Materials\n",
    "\n",
    "All customers that would like an account would need to be validated. There are 2 main checks to be performed:\n",
    "- Document check\n",
    "- Facial Similarity Check\n",
    "\n",
    "Getting a KYC 'clear' implies that the customer has cleared Document and Facial similarity check.\n",
    "\n",
    "<b>Document (clear) + Facial Similarity (clear) = KYC (clear) </b>\n",
    "\n",
    "Each customer has two attempts. The pass rate has decreased substantially in the recent period. (Why?)\n",
    "\n"
   ]
  },
  {
   "cell_type": "markdown",
   "metadata": {},
   "source": [
    "#### The questions we are trying to answer:\n",
    "1. What is the percentage of people who are passing the document check?\n",
    "2. What is the percentage of people who are passing the facial similarity?\n",
    "    a. What are the % break-downs of the other results for facial similarity?\n",
    "3. What is the percentage of people who are passing KYC (document check + facial similarity)?\n",
    "4. Why has the pass rate decreased in the recent period?\n",
    "5. What is the percentage of people with attempts more than one?\n",
    "6. How many people are failing due the maximum number of attempts?\n",
    "7. What is the root cause?\n",
    "8. What are the possible solutions to the decrease in pass rate?\n"
   ]
  },
  {
   "cell_type": "markdown",
   "metadata": {},
   "source": [
    "# Table Of Contents\n",
    "\n",
    "Following are the steps to the followed to perform the analysis:\n",
    "\n",
    "- [#1 Data load, importing libraries & Sense Check of Data](#1)\n",
    "    - [#1.1 Analysis of Document Check Data](#1.1)\n",
    "    - [#1.2 Analysis of Facial Similarity Data](#1.2)\n",
    "- [#2 Data Cleaning, Missing Value Treatment](#2)\n",
    "- [#3 Exploratory Data Analysis (EDA)](#3)\n",
    "    - [#3.1 Univariate and Bivariate Analysis of Columns](#3.1)\n",
    "    - [#3.2 Outlier Analysis of the Data](#3.2)\n",
    "- [#4 Test-Train Split, Feature Scaling & Handling Class Imbalance in the data - SMOTE ](#4)\n",
    "- [#5 Modelling - Part 1: Obtaining best churn classification](#5)"
   ]
  },
  {
   "cell_type": "markdown",
   "metadata": {},
   "source": [
    "<a id='1'></a>\n",
    "## #1 Data load, importing libraries & Sense Check of Data"
   ]
  },
  {
   "cell_type": "code",
   "execution_count": 2,
   "metadata": {},
   "outputs": [],
   "source": [
    "# Importing the required packages\n",
    "\n",
    "from sklearn.linear_model import LinearRegression\n",
    "from sklearn.model_selection import GridSearchCV\n",
    "from sklearn.linear_model import Ridge\n",
    "from sklearn.linear_model import Lasso\n",
    "from sklearn import linear_model\n",
    "import matplotlib.pyplot as plt\n",
    "import seaborn as sns\n",
    "import pandas as pd\n",
    "import numpy as np\n",
    "import os\n",
    "\n",
    "# Hide warnings\n",
    "\n",
    "import warnings\n",
    "warnings.filterwarnings('ignore')"
   ]
  },
  {
   "cell_type": "code",
   "execution_count": 3,
   "metadata": {},
   "outputs": [],
   "source": [
    "# Removing the minimum display columns to 500\n",
    "pd.set_option('display.max_columns', 500)\n",
    "pd.set_option('display.max_rows', 500)\n",
    "\n",
    "# Ignoring warnings\n",
    "warnings.filterwarnings(\"ignore\")"
   ]
  },
  {
   "cell_type": "code",
   "execution_count": 4,
   "metadata": {},
   "outputs": [],
   "source": [
    "# Reading the dataset\n",
    "documentData = pd.read_csv(\"Data/doc_reports.csv\")"
   ]
  },
  {
   "cell_type": "code",
   "execution_count": 5,
   "metadata": {},
   "outputs": [],
   "source": [
    "# Reading the dataset\n",
    "facialSimilarityData = pd.read_csv(\"Data/facial_similarity_reports.csv\")"
   ]
  },
  {
   "cell_type": "markdown",
   "metadata": {},
   "source": [
    "<a id='1.1'></a>\n",
    "### #1.1 Analysis of Document Check Data"
   ]
  },
  {
   "cell_type": "code",
   "execution_count": null,
   "metadata": {},
   "outputs": [],
   "source": []
  },
  {
   "cell_type": "code",
   "execution_count": null,
   "metadata": {},
   "outputs": [],
   "source": []
  },
  {
   "cell_type": "code",
   "execution_count": null,
   "metadata": {},
   "outputs": [],
   "source": []
  },
  {
   "cell_type": "code",
   "execution_count": null,
   "metadata": {},
   "outputs": [],
   "source": []
  },
  {
   "cell_type": "code",
   "execution_count": null,
   "metadata": {},
   "outputs": [],
   "source": []
  },
  {
   "cell_type": "code",
   "execution_count": null,
   "metadata": {},
   "outputs": [],
   "source": []
  },
  {
   "cell_type": "code",
   "execution_count": null,
   "metadata": {},
   "outputs": [],
   "source": []
  },
  {
   "cell_type": "code",
   "execution_count": null,
   "metadata": {},
   "outputs": [],
   "source": []
  },
  {
   "cell_type": "code",
   "execution_count": null,
   "metadata": {},
   "outputs": [],
   "source": []
  },
  {
   "cell_type": "code",
   "execution_count": null,
   "metadata": {},
   "outputs": [],
   "source": []
  },
  {
   "cell_type": "code",
   "execution_count": null,
   "metadata": {},
   "outputs": [],
   "source": []
  },
  {
   "cell_type": "code",
   "execution_count": null,
   "metadata": {},
   "outputs": [],
   "source": []
  },
  {
   "cell_type": "code",
   "execution_count": null,
   "metadata": {},
   "outputs": [],
   "source": []
  },
  {
   "cell_type": "code",
   "execution_count": null,
   "metadata": {},
   "outputs": [],
   "source": []
  },
  {
   "cell_type": "code",
   "execution_count": null,
   "metadata": {},
   "outputs": [],
   "source": []
  },
  {
   "cell_type": "code",
   "execution_count": null,
   "metadata": {},
   "outputs": [],
   "source": []
  },
  {
   "cell_type": "code",
   "execution_count": null,
   "metadata": {},
   "outputs": [],
   "source": []
  },
  {
   "cell_type": "code",
   "execution_count": null,
   "metadata": {},
   "outputs": [],
   "source": []
  },
  {
   "cell_type": "code",
   "execution_count": null,
   "metadata": {},
   "outputs": [],
   "source": []
  },
  {
   "cell_type": "code",
   "execution_count": null,
   "metadata": {},
   "outputs": [],
   "source": []
  },
  {
   "cell_type": "code",
   "execution_count": null,
   "metadata": {},
   "outputs": [],
   "source": []
  },
  {
   "cell_type": "code",
   "execution_count": null,
   "metadata": {},
   "outputs": [],
   "source": []
  }
 ],
 "metadata": {
  "kernelspec": {
   "display_name": "Python 3",
   "language": "python",
   "name": "python3"
  },
  "language_info": {
   "codemirror_mode": {
    "name": "ipython",
    "version": 3
   },
   "file_extension": ".py",
   "mimetype": "text/x-python",
   "name": "python",
   "nbconvert_exporter": "python",
   "pygments_lexer": "ipython3",
   "version": "3.7.6"
  }
 },
 "nbformat": 4,
 "nbformat_minor": 2
}
